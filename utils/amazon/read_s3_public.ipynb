{
 "cells": [
  {
   "cell_type": "code",
   "execution_count": 1,
   "metadata": {},
   "outputs": [],
   "source": [
    "import requests\n",
    "import pandas as pd\n",
    "from xml.etree import ElementTree"
   ]
  },
  {
   "cell_type": "markdown",
   "metadata": {},
   "source": [
    "Parse Public File to Extract All"
   ]
  },
  {
   "cell_type": "code",
   "execution_count": 2,
   "metadata": {},
   "outputs": [
    {
     "name": "stdout",
     "output_type": "stream",
     "text": [
      "Keys have been saved to s3_keys.csv\n"
     ]
    }
   ],
   "source": [
    "\n",
    "bucket_name = 'urbanriverrangers'\n",
    "base_url = f'https://{bucket_name}.s3.amazonaws.com'\n",
    "\n",
    "    \n",
    "def list_objects(bucket_url, continuation_token=None):\n",
    "    params = {'list-type': '2'}  # Use list-type=2 for continuation token support\n",
    "    if continuation_token:\n",
    "        params['continuation-token'] = continuation_token\n",
    "\n",
    "    response = requests.get(bucket_url, params=params)\n",
    "    response.raise_for_status()  # Ensure we get a successful response\n",
    "\n",
    "    return response.text\n",
    "\n",
    "def parse_objects(xml_response):\n",
    "    root = ElementTree.fromstring(xml_response)\n",
    "    # Define the namespace\n",
    "    namespace = {'ns': 'http://s3.amazonaws.com/doc/2006-03-01/'}\n",
    "    data = []\n",
    "    for item in root.findall('.//ns:Contents', namespace):\n",
    "        row = {\n",
    "            'Key': item.find('ns:Key', namespace).text,\n",
    "            'ETag': item.find('ns:ETag', namespace).text,\n",
    "            'LastModified': item.find('ns:LastModified', namespace).text\n",
    "        }\n",
    "        data.append(row)\n",
    "\n",
    "    next_token = root.find('.//{http://s3.amazonaws.com/doc/2006-03-01/}NextContinuationToken')\n",
    "    return data, next_token.text if next_token is not None else None\n",
    "\n",
    "continuation_token = None\n",
    "all_data = []\n",
    "\n",
    "while True:\n",
    "    xml_response = list_objects(base_url, continuation_token)\n",
    "    data, continuation_token = parse_objects(xml_response)\n",
    "    all_data.extend(data)\n",
    "    \n",
    "    if continuation_token is None:\n",
    "        break\n",
    "\n",
    "# Store keys in a pandas DataFrame\n",
    "df = pd.DataFrame(all_data, columns=['Key','ETag','LastModified'])\n",
    "\n",
    "# Save the DataFrame to a CSV file\n",
    "csv_file = 's3_keys.csv'\n",
    "df.to_csv(csv_file, index=False)\n",
    "\n",
    "print(f\"Keys have been saved to {csv_file}\")\n"
   ]
  },
  {
   "cell_type": "code",
   "execution_count": 3,
   "metadata": {},
   "outputs": [
    {
     "name": "stdout",
     "output_type": "stream",
     "text": [
      "2024-01-30_Learnin_platform_camera_test\n",
      "2024-01-30_prologis_02\n",
      "2024-01-31_LearningPlatformBeaver\n",
      "2024-02-01_16-41-42\n",
      "2024-02-01_Bubbly_003\n",
      "2024-02-01_Bubbly_spypoint_garden\n",
      "2024-02-03_Bubbly003WildMile\n",
      "2024-02-10_Prologis02WildMile\n",
      "2024-02-10_Reveal002WildMile\n",
      "2024-02-24_Prologis\n",
      "2024-03-06_RevealCamWildMile\n",
      "2024-03-23_00-38-55\n",
      "2024-03-23_WildMileNorth\n",
      "2024-04-13_ZoneD\n",
      "2024-05-01_GIOG\n",
      "2024-05-12_Prologis\n",
      "2024-05-14_TESTDEL2\n",
      "2024-05-14_TESTDELETE\n",
      "2024-05-14_test_delete\n",
      "2024-05-16_WM_Boardwalk_D\n",
      "2024-05-25_WM_Boardwalk_D\n",
      "2024-05-25_WM_Boardwalk_F\n",
      "2024-05-25_WM_Boardwalk_G\n",
      "2024-06-03_UR011\n",
      "2024-06-08_WM_Boardwalk_D\n",
      "2024-06-08_WM_Boardwalk_G\n",
      "2024-06-29_WM_Boardwalk_D\n",
      "2024-06-29_WM_Boardwalk_G\n",
      "2024-07-06_WM_Boardwalk_G\n",
      "2024-07-20_UR004\n",
      "2024-07-20_UR010\n",
      "2024-07-20_WM_Boardwalk_D_UR010\n",
      "2024-07-20_WM_Boardwalk_G_UR004\n",
      "2024-07-20_WM_DIS_A_UR016\n",
      "2024-07-20_WM_DIS_B_UR007\n",
      "Bubbly_faces_of_fishing\n"
     ]
    }
   ],
   "source": [
    "# Find the unique deployment names if not logged from sd uploaded\n",
    "\n",
    "# Specify Deployment Year of interest\n",
    "deploy_year = '2024'\n",
    "\n",
    "# Read in the master list of all s3_keys\n",
    "df_a = pd.read_csv(\"s3_keys.csv\")\n",
    "\n",
    "unique_deploy = set()\n",
    "\n",
    "for index, row in df_a.iterrows():\n",
    "    key = row[\"Key\"]\n",
    "    key_parts = key.split('/')\n",
    "\n",
    "    if len(key_parts) > 3 and key_parts[1] == deploy_year:\n",
    "        unique_deploy.add(key_parts[2])\n",
    "\n",
    "list_deploys = [deploymentID for deploymentID in unique_deploy]\n",
    "list_deploys.sort()\n",
    "\n",
    "for deploymentID in list_deploys:\n",
    "    print(deploymentID)\n",
    "\n",
    "# 2024-05-25_WM_Boardwalk_F\n",
    "# 2024-05-25_WM_Boardwalk_G\n",
    "# 2024-06-03_UR011\n",
    "# 2024-06-08_WM_Boardwalk_D\n",
    "\n",
    "## Exported 2024-07-11: \n",
    "# 2024-06-29_WM_Boardwalk_D\n",
    "# 2024-06-29_WM_Boardwalk_G\n",
    "# 2024-07-06_WM_Boardwalk_G\n",
    "\n",
    "## Explorted 2024-07-21\n",
    "# 2024-07-20_WM_Boardwalk_D_UR010\n",
    "# 2024-07-20_WM_Boardwalk_G_UR004\n",
    "# 2024-07-20_WM_DIS_A_UR016\n",
    "# 2024-07-20_WM_DIS_B_UR007"
   ]
  },
  {
   "cell_type": "code",
   "execution_count": null,
   "metadata": {},
   "outputs": [],
   "source": [
    "# Step 2: Parse the XML generated in s3_keys (also df) into a media table?\n",
    "# Alternately, we could do this right after filtering"
   ]
  },
  {
   "cell_type": "code",
   "execution_count": null,
   "metadata": {},
   "outputs": [],
   "source": [
    "# Step 3: Grab Exif Information"
   ]
  }
 ],
 "metadata": {
  "kernelspec": {
   "display_name": "camtrap",
   "language": "python",
   "name": "python3"
  },
  "language_info": {
   "codemirror_mode": {
    "name": "ipython",
    "version": 3
   },
   "file_extension": ".py",
   "mimetype": "text/x-python",
   "name": "python",
   "nbconvert_exporter": "python",
   "pygments_lexer": "ipython3",
   "version": "3.9.6"
  }
 },
 "nbformat": 4,
 "nbformat_minor": 2
}
